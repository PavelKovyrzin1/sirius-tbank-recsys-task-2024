{
 "cells": [
  {
   "cell_type": "markdown",
   "id": "28890e74-01a4-4079-8950-7a4bf96907ab",
   "metadata": {},
   "source": [
    "# Recommender Systems"
   ]
  },
  {
   "cell_type": "markdown",
   "id": "2a8ebbf9",
   "metadata": {},
   "source": [
    "# Библиотеки"
   ]
  },
  {
   "cell_type": "code",
   "execution_count": 1,
   "id": "87020f5c",
   "metadata": {},
   "outputs": [],
   "source": [
    "from abc import ABC, abstractmethod\n",
    "from typing import Dict, List\n",
    "\n",
    "import matplotlib.pyplot as plt\n",
    "import numpy as np\n",
    "import pandas as pd\n",
    "import pickle\n",
    "from implicit.als import AlternatingLeastSquares\n",
    "from scipy.sparse import csr_matrix\n",
    "from sklearn.preprocessing import LabelEncoder, MultiLabelBinarizer\n",
    "from tqdm.auto import tqdm"
   ]
  },
  {
   "cell_type": "markdown",
   "id": "ac5ea33e",
   "metadata": {},
   "source": [
    "# Данные"
   ]
  },
  {
   "cell_type": "markdown",
   "id": "c457efa5",
   "metadata": {},
   "source": [
    "В качестве данных будем использовать датасет от Кино.Триколор.\n",
    "Это информация о просмотрах пользователей различных фильмов и сериалов с названиями, описаниями и прочими фичами. \n",
    "\n",
    "**Обратите внимание, что вы можете парсить интернет, для получения дополнительных фичей! Только не забудьте описать, какие фичи вы взяли и где вы их достали!**   \n",
    "Мы заранее поделили выборки на тренировочную и тестовую части, поэтому **просим** вас придерживаться следующих правил: с тренировочными данными разрешается делать **всё что угодно**, тестовую же часть **запрещается изменять**!  \n",
    "\n",
    "Датасет представляет из себя 4 файла: тренировочную часть (`train_data.csv`), тестовую часть(`test_data.csv`), описание пользователей(`users_df.csv`) и описание айтемов(`items_df.csv`). "
   ]
  },
  {
   "cell_type": "code",
   "execution_count": 2,
   "id": "4fe28e8d",
   "metadata": {},
   "outputs": [],
   "source": [
    "data_folder = \"./dataset_additional/\"\n",
    "\n",
    "users_df = pd.read_csv(data_folder + \"users_df.csv\")\n",
    "items_df = pd.read_csv(data_folder + \"items_df.csv\")\n",
    "\n",
    "countries = pd.read_csv(data_folder + \"countries.csv\")\n",
    "genres = pd.read_csv(data_folder + \"genres.csv\")\n",
    "staff = pd.read_csv(data_folder + \"staff.csv\")\n",
    "\n",
    "data_folder = \"./\"\n",
    "\n",
    "train_part = pd.read_csv(data_folder + \"train_data.csv\", parse_dates=[\"datetime\"])\n",
    "test_part = pd.read_csv(data_folder + \"test_data.csv\")\n",
    "test_part = test_part.groupby(\"user_id\").agg({\"movie_id\": list}).reset_index()"
   ]
  },
  {
   "cell_type": "markdown",
   "id": "4181deb6",
   "metadata": {},
   "source": [
    "# Пользователи"
   ]
  },
  {
   "cell_type": "code",
   "execution_count": 3,
   "id": "9034562c",
   "metadata": {},
   "outputs": [
    {
     "data": {
      "text/html": [
       "<div>\n",
       "<style scoped>\n",
       "    .dataframe tbody tr th:only-of-type {\n",
       "        vertical-align: middle;\n",
       "    }\n",
       "\n",
       "    .dataframe tbody tr th {\n",
       "        vertical-align: top;\n",
       "    }\n",
       "\n",
       "    .dataframe thead th {\n",
       "        text-align: right;\n",
       "    }\n",
       "</style>\n",
       "<table border=\"1\" class=\"dataframe\">\n",
       "  <thead>\n",
       "    <tr style=\"text-align: right;\">\n",
       "      <th></th>\n",
       "      <th>user_id</th>\n",
       "      <th>age_category</th>\n",
       "      <th>income</th>\n",
       "      <th>sex</th>\n",
       "      <th>kids_flg</th>\n",
       "      <th>education</th>\n",
       "    </tr>\n",
       "  </thead>\n",
       "  <tbody>\n",
       "    <tr>\n",
       "      <th>0</th>\n",
       "      <td>10250</td>\n",
       "      <td>35-44</td>\n",
       "      <td>NaN</td>\n",
       "      <td>NaN</td>\n",
       "      <td>0.0</td>\n",
       "      <td>Высшее</td>\n",
       "    </tr>\n",
       "    <tr>\n",
       "      <th>1</th>\n",
       "      <td>2062</td>\n",
       "      <td>18-24</td>\n",
       "      <td>NaN</td>\n",
       "      <td>Женский</td>\n",
       "      <td>0.0</td>\n",
       "      <td>Среднее</td>\n",
       "    </tr>\n",
       "    <tr>\n",
       "      <th>2</th>\n",
       "      <td>12980</td>\n",
       "      <td>35-44</td>\n",
       "      <td>NaN</td>\n",
       "      <td>Женский</td>\n",
       "      <td>1.0</td>\n",
       "      <td>Неполное высшее</td>\n",
       "    </tr>\n",
       "    <tr>\n",
       "      <th>3</th>\n",
       "      <td>30646</td>\n",
       "      <td>35-44</td>\n",
       "      <td>низкий</td>\n",
       "      <td>NaN</td>\n",
       "      <td>1.0</td>\n",
       "      <td>Высшее</td>\n",
       "    </tr>\n",
       "    <tr>\n",
       "      <th>4</th>\n",
       "      <td>43069</td>\n",
       "      <td>25-34</td>\n",
       "      <td>NaN</td>\n",
       "      <td>Женский</td>\n",
       "      <td>NaN</td>\n",
       "      <td>Высшее</td>\n",
       "    </tr>\n",
       "    <tr>\n",
       "      <th>5</th>\n",
       "      <td>46037</td>\n",
       "      <td>25-34</td>\n",
       "      <td>низкий</td>\n",
       "      <td>Мужской</td>\n",
       "      <td>0.0</td>\n",
       "      <td>Среднее</td>\n",
       "    </tr>\n",
       "    <tr>\n",
       "      <th>6</th>\n",
       "      <td>15060</td>\n",
       "      <td>18-24</td>\n",
       "      <td>средний</td>\n",
       "      <td>Мужской</td>\n",
       "      <td>0.0</td>\n",
       "      <td>Без образования</td>\n",
       "    </tr>\n",
       "    <tr>\n",
       "      <th>7</th>\n",
       "      <td>38702</td>\n",
       "      <td>NaN</td>\n",
       "      <td>высокий</td>\n",
       "      <td>Мужской</td>\n",
       "      <td>0.0</td>\n",
       "      <td>NaN</td>\n",
       "    </tr>\n",
       "    <tr>\n",
       "      <th>8</th>\n",
       "      <td>2019</td>\n",
       "      <td>25-34</td>\n",
       "      <td>низкий</td>\n",
       "      <td>Женский</td>\n",
       "      <td>NaN</td>\n",
       "      <td>NaN</td>\n",
       "    </tr>\n",
       "    <tr>\n",
       "      <th>9</th>\n",
       "      <td>34480</td>\n",
       "      <td>25-34</td>\n",
       "      <td>низкий</td>\n",
       "      <td>Женский</td>\n",
       "      <td>1.0</td>\n",
       "      <td>Высшее</td>\n",
       "    </tr>\n",
       "  </tbody>\n",
       "</table>\n",
       "</div>"
      ],
      "text/plain": [
       "   user_id age_category   income      sex  kids_flg        education\n",
       "0    10250        35-44      NaN      NaN       0.0           Высшее\n",
       "1     2062        18-24      NaN  Женский       0.0          Среднее\n",
       "2    12980        35-44      NaN  Женский       1.0  Неполное высшее\n",
       "3    30646        35-44   низкий      NaN       1.0           Высшее\n",
       "4    43069        25-34      NaN  Женский       NaN           Высшее\n",
       "5    46037        25-34   низкий  Мужской       0.0          Среднее\n",
       "6    15060        18-24  средний  Мужской       0.0  Без образования\n",
       "7    38702          NaN  высокий  Мужской       0.0              NaN\n",
       "8     2019        25-34   низкий  Женский       NaN              NaN\n",
       "9    34480        25-34   низкий  Женский       1.0           Высшее"
      ]
     },
     "execution_count": 3,
     "metadata": {},
     "output_type": "execute_result"
    }
   ],
   "source": [
    "users_df.head(10)"
   ]
  },
  {
   "cell_type": "markdown",
   "id": "8b1d94a2",
   "metadata": {},
   "source": [
    "## Какие есть признаки?\n",
    "\n",
    "1. `user_id` – индентификатор пользователя, уникален для каждого\n",
    "2. `age_category` – категориальный признак, показывающий возрастную группу пользователя\n",
    "3. `income` – категориальный признак, показывающий зарплатную группу пользователя\n",
    "4. `sex` – пол пользователя\n",
    "5. `kids_flg` – наличие детей у пользователя\n",
    "6. `education` – уровень образования пользователя"
   ]
  },
  {
   "cell_type": "markdown",
   "id": "5958decd",
   "metadata": {},
   "source": [
    "# Айтемы"
   ]
  },
  {
   "cell_type": "code",
   "execution_count": 4,
   "id": "ab072a65",
   "metadata": {},
   "outputs": [
    {
     "data": {
      "text/html": [
       "<div>\n",
       "<style scoped>\n",
       "    .dataframe tbody tr th:only-of-type {\n",
       "        vertical-align: middle;\n",
       "    }\n",
       "\n",
       "    .dataframe tbody tr th {\n",
       "        vertical-align: top;\n",
       "    }\n",
       "\n",
       "    .dataframe thead th {\n",
       "        text-align: right;\n",
       "    }\n",
       "</style>\n",
       "<table border=\"1\" class=\"dataframe\">\n",
       "  <thead>\n",
       "    <tr style=\"text-align: right;\">\n",
       "      <th></th>\n",
       "      <th>id</th>\n",
       "      <th>title</th>\n",
       "      <th>year</th>\n",
       "      <th>date_publication</th>\n",
       "      <th>description</th>\n",
       "      <th>genres</th>\n",
       "      <th>countries</th>\n",
       "      <th>staff</th>\n",
       "      <th>title_orig</th>\n",
       "      <th>age_rating</th>\n",
       "      <th>keywords</th>\n",
       "    </tr>\n",
       "  </thead>\n",
       "  <tbody>\n",
       "    <tr>\n",
       "      <th>0</th>\n",
       "      <td>0</td>\n",
       "      <td>Мама, я дома</td>\n",
       "      <td>2022-01-01</td>\n",
       "      <td>2022-11-23T00:00:00</td>\n",
       "      <td>Где-то в глубинке вместе с дочерью и внуком жи...</td>\n",
       "      <td>[97]</td>\n",
       "      <td>[238]</td>\n",
       "      <td>[1883, 33655, 25890, 1001, 12051, 10110, 16895]</td>\n",
       "      <td>NaN</td>\n",
       "      <td>NaN</td>\n",
       "      <td>NaN</td>\n",
       "    </tr>\n",
       "    <tr>\n",
       "      <th>1</th>\n",
       "      <td>1</td>\n",
       "      <td>Три метра над уровнем неба</td>\n",
       "      <td>2010-01-01</td>\n",
       "      <td>NaN</td>\n",
       "      <td>История любви парня и девушки, принадлежащих к...</td>\n",
       "      <td>[138, 97, 294]</td>\n",
       "      <td>[242]</td>\n",
       "      <td>[18168, 23444, 10850, 21847, 30555, 24469, 268...</td>\n",
       "      <td>Tres metros sobre el cielo</td>\n",
       "      <td>16.0</td>\n",
       "      <td>Три, метра, над, уровнем, неба, 2010, Испания,...</td>\n",
       "    </tr>\n",
       "    <tr>\n",
       "      <th>2</th>\n",
       "      <td>2</td>\n",
       "      <td>Детектив ди и тайна призрачного пламени</td>\n",
       "      <td>2010-01-01</td>\n",
       "      <td>NaN</td>\n",
       "      <td>690 год нашей эры, Китай. Первая императрица д...</td>\n",
       "      <td>[294, 302]</td>\n",
       "      <td>[250, 117]</td>\n",
       "      <td>[3933, 19953, 32174, 30640, 14127, 32141, 2549...</td>\n",
       "      <td>NaN</td>\n",
       "      <td>NaN</td>\n",
       "      <td>NaN</td>\n",
       "    </tr>\n",
       "    <tr>\n",
       "      <th>3</th>\n",
       "      <td>3</td>\n",
       "      <td>Капитан</td>\n",
       "      <td>2017-01-01</td>\n",
       "      <td>2022-10-20T00:00:00</td>\n",
       "      <td>Вторая мировая война подходит к концу. В это в...</td>\n",
       "      <td>[97, 303, 143, 319]</td>\n",
       "      <td>[188, 212, 0]</td>\n",
       "      <td>[16006, 12217, 30668, 28806, 16172, 5045, 1663...</td>\n",
       "      <td>NaN</td>\n",
       "      <td>NaN</td>\n",
       "      <td>NaN</td>\n",
       "    </tr>\n",
       "  </tbody>\n",
       "</table>\n",
       "</div>"
      ],
      "text/plain": [
       "   id                                    title        year  \\\n",
       "0   0                             Мама, я дома  2022-01-01   \n",
       "1   1               Три метра над уровнем неба  2010-01-01   \n",
       "2   2  Детектив ди и тайна призрачного пламени  2010-01-01   \n",
       "3   3                                  Капитан  2017-01-01   \n",
       "\n",
       "      date_publication                                        description  \\\n",
       "0  2022-11-23T00:00:00  Где-то в глубинке вместе с дочерью и внуком жи...   \n",
       "1                  NaN  История любви парня и девушки, принадлежащих к...   \n",
       "2                  NaN  690 год нашей эры, Китай. Первая императрица д...   \n",
       "3  2022-10-20T00:00:00  Вторая мировая война подходит к концу. В это в...   \n",
       "\n",
       "                genres      countries  \\\n",
       "0                 [97]          [238]   \n",
       "1       [138, 97, 294]          [242]   \n",
       "2           [294, 302]     [250, 117]   \n",
       "3  [97, 303, 143, 319]  [188, 212, 0]   \n",
       "\n",
       "                                               staff  \\\n",
       "0    [1883, 33655, 25890, 1001, 12051, 10110, 16895]   \n",
       "1  [18168, 23444, 10850, 21847, 30555, 24469, 268...   \n",
       "2  [3933, 19953, 32174, 30640, 14127, 32141, 2549...   \n",
       "3  [16006, 12217, 30668, 28806, 16172, 5045, 1663...   \n",
       "\n",
       "                   title_orig  age_rating  \\\n",
       "0                         NaN         NaN   \n",
       "1  Tres metros sobre el cielo        16.0   \n",
       "2                         NaN         NaN   \n",
       "3                         NaN         NaN   \n",
       "\n",
       "                                            keywords  \n",
       "0                                                NaN  \n",
       "1  Три, метра, над, уровнем, неба, 2010, Испания,...  \n",
       "2                                                NaN  \n",
       "3                                                NaN  "
      ]
     },
     "execution_count": 4,
     "metadata": {},
     "output_type": "execute_result"
    }
   ],
   "source": [
    "items_df.head(4)"
   ]
  },
  {
   "cell_type": "markdown",
   "id": "bd6ec505",
   "metadata": {},
   "source": [
    "## Какие есть признаки?\n",
    "\n",
    "1. `id` – индентификатор айтема, уникален для каждого\n",
    "2. `title` – Название на русском языке\n",
    "3. `year` – Дата выхода\n",
    "4. `date_publication` – дата публикации на платформе\n",
    "5. `description` – описание (на русском)\n",
    "6. `genres` - список жанров (представлен строкой)\n",
    "7. `countries` – страна издания\n",
    "8. `staff` – режиссер(ы), актёры\n",
    "9. `title_orig` – название на английском\n",
    "10. `age_rating` – возрастной рейтинг картины\n",
    "11. `keywords` – ключевые слова, описывающие картину"
   ]
  },
  {
   "cell_type": "markdown",
   "id": "c7a03955",
   "metadata": {},
   "source": [
    "# Страны выпуска фильмов"
   ]
  },
  {
   "cell_type": "code",
   "execution_count": 5,
   "id": "467d247b",
   "metadata": {},
   "outputs": [
    {
     "data": {
      "text/html": [
       "<div>\n",
       "<style scoped>\n",
       "    .dataframe tbody tr th:only-of-type {\n",
       "        vertical-align: middle;\n",
       "    }\n",
       "\n",
       "    .dataframe tbody tr th {\n",
       "        vertical-align: top;\n",
       "    }\n",
       "\n",
       "    .dataframe thead th {\n",
       "        text-align: right;\n",
       "    }\n",
       "</style>\n",
       "<table border=\"1\" class=\"dataframe\">\n",
       "  <thead>\n",
       "    <tr style=\"text-align: right;\">\n",
       "      <th></th>\n",
       "      <th>id</th>\n",
       "      <th>name</th>\n",
       "    </tr>\n",
       "  </thead>\n",
       "  <tbody>\n",
       "    <tr>\n",
       "      <th>0</th>\n",
       "      <td>0</td>\n",
       "      <td>Франция</td>\n",
       "    </tr>\n",
       "    <tr>\n",
       "      <th>1</th>\n",
       "      <td>1</td>\n",
       "      <td>Мальта</td>\n",
       "    </tr>\n",
       "    <tr>\n",
       "      <th>2</th>\n",
       "      <td>5</td>\n",
       "      <td>Новая Зеландия</td>\n",
       "    </tr>\n",
       "    <tr>\n",
       "      <th>3</th>\n",
       "      <td>8</td>\n",
       "      <td>Куба</td>\n",
       "    </tr>\n",
       "    <tr>\n",
       "      <th>4</th>\n",
       "      <td>10</td>\n",
       "      <td>Пуэрто-Рико</td>\n",
       "    </tr>\n",
       "  </tbody>\n",
       "</table>\n",
       "</div>"
      ],
      "text/plain": [
       "   id            name\n",
       "0   0         Франция\n",
       "1   1          Мальта\n",
       "2   5  Новая Зеландия\n",
       "3   8            Куба\n",
       "4  10     Пуэрто-Рико"
      ]
     },
     "execution_count": 5,
     "metadata": {},
     "output_type": "execute_result"
    }
   ],
   "source": [
    "countries.head()"
   ]
  },
  {
   "cell_type": "markdown",
   "id": "8b9b6d6e",
   "metadata": {},
   "source": [
    "# Жанры"
   ]
  },
  {
   "cell_type": "code",
   "execution_count": 6,
   "id": "9800e37b",
   "metadata": {},
   "outputs": [
    {
     "data": {
      "text/html": [
       "<div>\n",
       "<style scoped>\n",
       "    .dataframe tbody tr th:only-of-type {\n",
       "        vertical-align: middle;\n",
       "    }\n",
       "\n",
       "    .dataframe tbody tr th {\n",
       "        vertical-align: top;\n",
       "    }\n",
       "\n",
       "    .dataframe thead th {\n",
       "        text-align: right;\n",
       "    }\n",
       "</style>\n",
       "<table border=\"1\" class=\"dataframe\">\n",
       "  <thead>\n",
       "    <tr style=\"text-align: right;\">\n",
       "      <th></th>\n",
       "      <th>id</th>\n",
       "      <th>name</th>\n",
       "    </tr>\n",
       "  </thead>\n",
       "  <tbody>\n",
       "    <tr>\n",
       "      <th>0</th>\n",
       "      <td>2</td>\n",
       "      <td>Сказка</td>\n",
       "    </tr>\n",
       "    <tr>\n",
       "      <th>1</th>\n",
       "      <td>8</td>\n",
       "      <td>Здоровье</td>\n",
       "    </tr>\n",
       "    <tr>\n",
       "      <th>2</th>\n",
       "      <td>17</td>\n",
       "      <td>Наука</td>\n",
       "    </tr>\n",
       "    <tr>\n",
       "      <th>3</th>\n",
       "      <td>24</td>\n",
       "      <td>Комедийная мелодрама</td>\n",
       "    </tr>\n",
       "    <tr>\n",
       "      <th>4</th>\n",
       "      <td>38</td>\n",
       "      <td>Мистика</td>\n",
       "    </tr>\n",
       "  </tbody>\n",
       "</table>\n",
       "</div>"
      ],
      "text/plain": [
       "   id                  name\n",
       "0   2                Сказка\n",
       "1   8              Здоровье\n",
       "2  17                 Наука\n",
       "3  24  Комедийная мелодрама\n",
       "4  38               Мистика"
      ]
     },
     "execution_count": 6,
     "metadata": {},
     "output_type": "execute_result"
    }
   ],
   "source": [
    "genres.head()"
   ]
  },
  {
   "cell_type": "markdown",
   "id": "bc195a65",
   "metadata": {},
   "source": [
    "# Актеры, режиcсеры"
   ]
  },
  {
   "cell_type": "code",
   "execution_count": 7,
   "id": "c36ce591",
   "metadata": {},
   "outputs": [
    {
     "data": {
      "text/html": [
       "<div>\n",
       "<style scoped>\n",
       "    .dataframe tbody tr th:only-of-type {\n",
       "        vertical-align: middle;\n",
       "    }\n",
       "\n",
       "    .dataframe tbody tr th {\n",
       "        vertical-align: top;\n",
       "    }\n",
       "\n",
       "    .dataframe thead th {\n",
       "        text-align: right;\n",
       "    }\n",
       "</style>\n",
       "<table border=\"1\" class=\"dataframe\">\n",
       "  <thead>\n",
       "    <tr style=\"text-align: right;\">\n",
       "      <th></th>\n",
       "      <th>id</th>\n",
       "      <th>name</th>\n",
       "      <th>role</th>\n",
       "    </tr>\n",
       "  </thead>\n",
       "  <tbody>\n",
       "    <tr>\n",
       "      <th>0</th>\n",
       "      <td>0</td>\n",
       "      <td>Юрий Волынцев</td>\n",
       "      <td>actor</td>\n",
       "    </tr>\n",
       "    <tr>\n",
       "      <th>1</th>\n",
       "      <td>1</td>\n",
       "      <td>Коннор Смит</td>\n",
       "      <td>actor</td>\n",
       "    </tr>\n",
       "  </tbody>\n",
       "</table>\n",
       "</div>"
      ],
      "text/plain": [
       "   id           name   role\n",
       "0   0  Юрий Волынцев  actor\n",
       "1   1    Коннор Смит  actor"
      ]
     },
     "execution_count": 7,
     "metadata": {},
     "output_type": "execute_result"
    }
   ],
   "source": [
    "staff.head(2)"
   ]
  },
  {
   "cell_type": "markdown",
   "id": "1f847f22",
   "metadata": {},
   "source": [
    "# Просмотры пользователей"
   ]
  },
  {
   "cell_type": "markdown",
   "id": "4e7bcab4",
   "metadata": {},
   "source": [
    "### Тренировачные данные"
   ]
  },
  {
   "cell_type": "code",
   "execution_count": 8,
   "id": "550ab814",
   "metadata": {},
   "outputs": [
    {
     "name": "stdout",
     "output_type": "stream",
     "text": [
      "Число тренировочных интеракций: 1,251,871\n"
     ]
    },
    {
     "data": {
      "text/html": [
       "<div>\n",
       "<style scoped>\n",
       "    .dataframe tbody tr th:only-of-type {\n",
       "        vertical-align: middle;\n",
       "    }\n",
       "\n",
       "    .dataframe tbody tr th {\n",
       "        vertical-align: top;\n",
       "    }\n",
       "\n",
       "    .dataframe thead th {\n",
       "        text-align: right;\n",
       "    }\n",
       "</style>\n",
       "<table border=\"1\" class=\"dataframe\">\n",
       "  <thead>\n",
       "    <tr style=\"text-align: right;\">\n",
       "      <th></th>\n",
       "      <th>id</th>\n",
       "      <th>datetime</th>\n",
       "      <th>user_id</th>\n",
       "      <th>movie_id</th>\n",
       "      <th>duration</th>\n",
       "      <th>is_train</th>\n",
       "    </tr>\n",
       "  </thead>\n",
       "  <tbody>\n",
       "    <tr>\n",
       "      <th>0</th>\n",
       "      <td>0</td>\n",
       "      <td>2023-04-06 15:00:00.071114+03:00</td>\n",
       "      <td>10250</td>\n",
       "      <td>427.0</td>\n",
       "      <td>485.0</td>\n",
       "      <td>True</td>\n",
       "    </tr>\n",
       "    <tr>\n",
       "      <th>1</th>\n",
       "      <td>1</td>\n",
       "      <td>2023-04-06 15:00:01.123928+03:00</td>\n",
       "      <td>2062</td>\n",
       "      <td>1521.0</td>\n",
       "      <td>129.0</td>\n",
       "      <td>True</td>\n",
       "    </tr>\n",
       "    <tr>\n",
       "      <th>2</th>\n",
       "      <td>2</td>\n",
       "      <td>2023-04-06 15:00:03.957246+03:00</td>\n",
       "      <td>12980</td>\n",
       "      <td>4598.0</td>\n",
       "      <td>2795.0</td>\n",
       "      <td>True</td>\n",
       "    </tr>\n",
       "    <tr>\n",
       "      <th>3</th>\n",
       "      <td>3</td>\n",
       "      <td>2023-04-06 15:00:04.990565+03:00</td>\n",
       "      <td>30646</td>\n",
       "      <td>5324.0</td>\n",
       "      <td>5094.0</td>\n",
       "      <td>True</td>\n",
       "    </tr>\n",
       "    <tr>\n",
       "      <th>4</th>\n",
       "      <td>4</td>\n",
       "      <td>2023-04-06 15:00:10.495017+03:00</td>\n",
       "      <td>43069</td>\n",
       "      <td>4291.0</td>\n",
       "      <td>75.0</td>\n",
       "      <td>True</td>\n",
       "    </tr>\n",
       "  </tbody>\n",
       "</table>\n",
       "</div>"
      ],
      "text/plain": [
       "   id                         datetime  user_id  movie_id  duration  is_train\n",
       "0   0 2023-04-06 15:00:00.071114+03:00    10250     427.0     485.0      True\n",
       "1   1 2023-04-06 15:00:01.123928+03:00     2062    1521.0     129.0      True\n",
       "2   2 2023-04-06 15:00:03.957246+03:00    12980    4598.0    2795.0      True\n",
       "3   3 2023-04-06 15:00:04.990565+03:00    30646    5324.0    5094.0      True\n",
       "4   4 2023-04-06 15:00:10.495017+03:00    43069    4291.0      75.0      True"
      ]
     },
     "execution_count": 8,
     "metadata": {},
     "output_type": "execute_result"
    }
   ],
   "source": [
    "print(f\"Число тренировочных интеракций: {len(train_part):,}\")\n",
    "train_part.head()"
   ]
  },
  {
   "cell_type": "markdown",
   "id": "468be7b9",
   "metadata": {},
   "source": [
    "### Тестовые данные"
   ]
  },
  {
   "cell_type": "code",
   "execution_count": 9,
   "id": "f8d7e2e4",
   "metadata": {},
   "outputs": [
    {
     "name": "stdout",
     "output_type": "stream",
     "text": [
      "Число тестовых пользователей: 66,900\n"
     ]
    },
    {
     "data": {
      "text/html": [
       "<div>\n",
       "<style scoped>\n",
       "    .dataframe tbody tr th:only-of-type {\n",
       "        vertical-align: middle;\n",
       "    }\n",
       "\n",
       "    .dataframe tbody tr th {\n",
       "        vertical-align: top;\n",
       "    }\n",
       "\n",
       "    .dataframe thead th {\n",
       "        text-align: right;\n",
       "    }\n",
       "</style>\n",
       "<table border=\"1\" class=\"dataframe\">\n",
       "  <thead>\n",
       "    <tr style=\"text-align: right;\">\n",
       "      <th></th>\n",
       "      <th>user_id</th>\n",
       "      <th>movie_id</th>\n",
       "    </tr>\n",
       "  </thead>\n",
       "  <tbody>\n",
       "    <tr>\n",
       "      <th>0</th>\n",
       "      <td>0</td>\n",
       "      <td>[12.0, 6201.0, 5542.0, 2025.0, 190.0, 5358.0, ...</td>\n",
       "    </tr>\n",
       "    <tr>\n",
       "      <th>1</th>\n",
       "      <td>1</td>\n",
       "      <td>[2515.0, 1540.0, 5210.0, 1608.0, 3590.0, 7215....</td>\n",
       "    </tr>\n",
       "    <tr>\n",
       "      <th>2</th>\n",
       "      <td>2</td>\n",
       "      <td>[5998.0, 190.0, 7327.0, 947.0, 3814.0, 876.0, ...</td>\n",
       "    </tr>\n",
       "    <tr>\n",
       "      <th>3</th>\n",
       "      <td>3</td>\n",
       "      <td>[4812.0, 3935.0, 802.0, 4459.0, 4340.0, 5975.0...</td>\n",
       "    </tr>\n",
       "    <tr>\n",
       "      <th>4</th>\n",
       "      <td>4</td>\n",
       "      <td>[152.0, 195.0, 800.0, 2266.0, 6634.0, 7412.0, ...</td>\n",
       "    </tr>\n",
       "  </tbody>\n",
       "</table>\n",
       "</div>"
      ],
      "text/plain": [
       "   user_id                                           movie_id\n",
       "0        0  [12.0, 6201.0, 5542.0, 2025.0, 190.0, 5358.0, ...\n",
       "1        1  [2515.0, 1540.0, 5210.0, 1608.0, 3590.0, 7215....\n",
       "2        2  [5998.0, 190.0, 7327.0, 947.0, 3814.0, 876.0, ...\n",
       "3        3  [4812.0, 3935.0, 802.0, 4459.0, 4340.0, 5975.0...\n",
       "4        4  [152.0, 195.0, 800.0, 2266.0, 6634.0, 7412.0, ..."
      ]
     },
     "execution_count": 9,
     "metadata": {},
     "output_type": "execute_result"
    }
   ],
   "source": [
    "print(f\"Число тестовых пользователей: {len(test_part):,}\")\n",
    "test_part.head()"
   ]
  },
  {
   "cell_type": "markdown",
   "id": "c1cbbff2",
   "metadata": {},
   "source": [
    "### Обратите внимание, что формат данных тестовой и тренировочной частей отличается. \n",
    "#### Это сделано для того, чтобы вы могли использовать дополнительную информацию в своих моделях, например такую как время просмотра (`duration`), а так же дату последнего просмотра (`datetime`)\n",
    "#### При этом на тестовых данных такой информации нет, так как мы не можем смотреть в будущее.     \n",
    "\n",
    "#### Тестовые данные также приведены в удобный для подсчета метрик вид."
   ]
  },
  {
   "cell_type": "markdown",
   "id": "116dca2a",
   "metadata": {},
   "source": [
    "# Метрики"
   ]
  },
  {
   "cell_type": "markdown",
   "id": "f6b8e6a6",
   "metadata": {},
   "source": [
    "#### Кратко расскажем про метрики, которые мы будем использовать для измерения качества наших моделей.  \n",
    "\n",
    "Мы будем смотреть всего на две метрики: **ndcg** и **recall**.  \n",
    "Все метрики измеряются до какой-то позиции, у нас это будет **10**. То есть мы отдаем 10 самых подходящих пользователю айтемов по мнению модели и говорим, что это и есть наши рекомендации, качество которых мы хотим оценить.  \n",
    "\n",
    "**ndcg** показывает, как модель справляется с задачей ранжирования, то есть ставит просмотренные айтемы выше непросмотренных\n",
    "**recall** показывает, как много релевантных айтемов модель выдаёт в топе (смысл как в задаче классификации)\n",
    "\n",
    "*Для обоих метрик лучше та, которая как можно ближе к **1.0***\n",
    "\n",
    "Не бойтесь, если вам сейчас что-то непонятно, подробнее про метрики мы расскажем на смене или можете почитать в интернете:)\n",
    "\n",
    "#### Ниже представлен код реализации, пожалуйста, не меняйте его!"
   ]
  },
  {
   "cell_type": "code",
   "execution_count": 10,
   "id": "862f37fa",
   "metadata": {},
   "outputs": [],
   "source": [
    "# ACHTUNG! DO NOT TOUCH \n",
    "\n",
    "def ndcg_metric(gt_items: np.ndarray, predicted: np.ndarray) -> float:\n",
    "    at = len(predicted)\n",
    "    relevance = np.array([1 if x in predicted else 0 for x in gt_items])\n",
    "    # DCG uses the relevance of the recommended items\n",
    "    rank_dcg = dcg(relevance)\n",
    "    if rank_dcg == 0.0:\n",
    "        return 0.0\n",
    "\n",
    "    # IDCG has all relevances to 1 (or the values provided), up to the number of items in the test set that can fit in the list length\n",
    "    ideal_dcg = dcg(np.sort(relevance)[::-1][:at])\n",
    "\n",
    "    if ideal_dcg == 0.0:\n",
    "        return 0.0\n",
    "\n",
    "    ndcg_ = rank_dcg / ideal_dcg\n",
    "\n",
    "    return ndcg_\n",
    "\n",
    "\n",
    "def dcg(scores: np.ndarray) -> float:\n",
    "    return np.sum(\n",
    "        np.divide(np.power(2, scores) - 1, np.log2(np.arange(scores.shape[0], dtype=np.float64) + 2)), dtype=np.float64\n",
    "    )\n",
    "\n",
    "\n",
    "def recall_metric(gt_items: np.ndarray, predicted: np.ndarray) -> float:\n",
    "    n_gt = len(gt_items)\n",
    "    intersection = len(set(gt_items).intersection(set(predicted)))\n",
    "    return intersection / n_gt\n",
    "\n",
    "\n",
    "def evaluate_recommender(df: pd.DataFrame, model_preds_col: str, gt_col: str = \"movie_id\") -> Dict[str, float]:\n",
    "    metric_values = []\n",
    "\n",
    "    for _, row in df.iterrows():\n",
    "        metric_values.append(\n",
    "            (ndcg_metric(row[gt_col], row[model_preds_col]), recall_metric(row[gt_col], row[model_preds_col]))\n",
    "        )\n",
    "\n",
    "    return {\"ndcg\": np.mean([x[0] for x in metric_values]), \"recall\": np.mean([x[1] for x in metric_values])}"
   ]
  },
  {
   "cell_type": "markdown",
   "id": "f3a653e1",
   "metadata": {},
   "source": [
    "#### Класс, от которого стоит наследовать все ваши модели, чтобы эксперименты было проще проводить"
   ]
  },
  {
   "cell_type": "code",
   "execution_count": 11,
   "id": "50d66b8e-3ae7-4080-bfd7-a6bfbc4919fd",
   "metadata": {},
   "outputs": [],
   "source": [
    "class BaseRecommender(ABC):\n",
    "    def __init__(self):\n",
    "        self.trained = False\n",
    "\n",
    "    @abstractmethod\n",
    "    def fit(self, df: pd.DataFrame) -> None:\n",
    "        # реализация может быть любой, никаких ограничений\n",
    "\n",
    "        # не забудьте про\n",
    "        self.trained = True\n",
    "\n",
    "    @abstractmethod\n",
    "    def predict(self, df: pd.DataFrame, topn: int = 10) -> List[np.ndarray]:\n",
    "        # реализация может быть любой, НО\n",
    "        # должен возвращать список массивов из movie_id, которые есть в `item_df`, чтобы корректно работал подсчет метрик\n",
    "        pass"
   ]
  },
  {
   "cell_type": "markdown",
   "id": "a85cdf6a",
   "metadata": {},
   "source": [
    "### Перейдем к моделям, начнем с супер простого подхода – давайте всем рекомендовать топ популярных (по числу просмотров) айтемов"
   ]
  },
  {
   "cell_type": "markdown",
   "id": "b9980118",
   "metadata": {},
   "source": [
    "# Baseline #1 – Топ Популярных"
   ]
  },
  {
   "cell_type": "code",
   "execution_count": 12,
   "id": "b3345e4e",
   "metadata": {},
   "outputs": [
    {
     "data": {
      "text/html": [
       "<div>\n",
       "<style scoped>\n",
       "    .dataframe tbody tr th:only-of-type {\n",
       "        vertical-align: middle;\n",
       "    }\n",
       "\n",
       "    .dataframe tbody tr th {\n",
       "        vertical-align: top;\n",
       "    }\n",
       "\n",
       "    .dataframe thead th {\n",
       "        text-align: right;\n",
       "    }\n",
       "</style>\n",
       "<table border=\"1\" class=\"dataframe\">\n",
       "  <thead>\n",
       "    <tr style=\"text-align: right;\">\n",
       "      <th></th>\n",
       "      <th>user_id</th>\n",
       "      <th>movie_id</th>\n",
       "      <th>toppopular_recs</th>\n",
       "    </tr>\n",
       "  </thead>\n",
       "  <tbody>\n",
       "    <tr>\n",
       "      <th>0</th>\n",
       "      <td>0</td>\n",
       "      <td>[12.0, 6201.0, 5542.0, 2025.0, 190.0, 5358.0, ...</td>\n",
       "      <td>[484.0, 6194.0, 641.0, 2679.0, 2820.0, 5876.0,...</td>\n",
       "    </tr>\n",
       "    <tr>\n",
       "      <th>1</th>\n",
       "      <td>1</td>\n",
       "      <td>[2515.0, 1540.0, 5210.0, 1608.0, 3590.0, 7215....</td>\n",
       "      <td>[484.0, 6194.0, 641.0, 2679.0, 2820.0, 5876.0,...</td>\n",
       "    </tr>\n",
       "    <tr>\n",
       "      <th>2</th>\n",
       "      <td>2</td>\n",
       "      <td>[5998.0, 190.0, 7327.0, 947.0, 3814.0, 876.0, ...</td>\n",
       "      <td>[484.0, 6194.0, 641.0, 2679.0, 2820.0, 5876.0,...</td>\n",
       "    </tr>\n",
       "    <tr>\n",
       "      <th>3</th>\n",
       "      <td>3</td>\n",
       "      <td>[4812.0, 3935.0, 802.0, 4459.0, 4340.0, 5975.0...</td>\n",
       "      <td>[484.0, 6194.0, 641.0, 2679.0, 2820.0, 5876.0,...</td>\n",
       "    </tr>\n",
       "    <tr>\n",
       "      <th>4</th>\n",
       "      <td>4</td>\n",
       "      <td>[152.0, 195.0, 800.0, 2266.0, 6634.0, 7412.0, ...</td>\n",
       "      <td>[484.0, 6194.0, 641.0, 2679.0, 2820.0, 5876.0,...</td>\n",
       "    </tr>\n",
       "  </tbody>\n",
       "</table>\n",
       "</div>"
      ],
      "text/plain": [
       "   user_id                                           movie_id  \\\n",
       "0        0  [12.0, 6201.0, 5542.0, 2025.0, 190.0, 5358.0, ...   \n",
       "1        1  [2515.0, 1540.0, 5210.0, 1608.0, 3590.0, 7215....   \n",
       "2        2  [5998.0, 190.0, 7327.0, 947.0, 3814.0, 876.0, ...   \n",
       "3        3  [4812.0, 3935.0, 802.0, 4459.0, 4340.0, 5975.0...   \n",
       "4        4  [152.0, 195.0, 800.0, 2266.0, 6634.0, 7412.0, ...   \n",
       "\n",
       "                                     toppopular_recs  \n",
       "0  [484.0, 6194.0, 641.0, 2679.0, 2820.0, 5876.0,...  \n",
       "1  [484.0, 6194.0, 641.0, 2679.0, 2820.0, 5876.0,...  \n",
       "2  [484.0, 6194.0, 641.0, 2679.0, 2820.0, 5876.0,...  \n",
       "3  [484.0, 6194.0, 641.0, 2679.0, 2820.0, 5876.0,...  \n",
       "4  [484.0, 6194.0, 641.0, 2679.0, 2820.0, 5876.0,...  "
      ]
     },
     "execution_count": 12,
     "metadata": {},
     "output_type": "execute_result"
    }
   ],
   "source": [
    "class TopPopular(BaseRecommender):\n",
    "    def __init__(self):\n",
    "        super().__init__()\n",
    "\n",
    "    def fit(self, df: pd.DataFrame, item_id_col: str = \"movie_id\") -> None:\n",
    "        # считаем популярность айтемов\n",
    "        self.recommendations = df[item_id_col].value_counts().index.values\n",
    "        self.trained = True\n",
    "\n",
    "    def predict(self, df: pd.DataFrame, topn: int = 10) -> np.ndarray:\n",
    "        assert self.trained\n",
    "        # возвращаем для всех одно и то же\n",
    "        return [self.recommendations[:topn]] * len(df)\n",
    "\n",
    "\n",
    "toppop = TopPopular()\n",
    "toppop.fit(train_part)\n",
    "test_part[\"toppopular_recs\"] = toppop.predict(test_part)\n",
    "test_part.head()"
   ]
  },
  {
   "cell_type": "markdown",
   "id": "cf0dda28",
   "metadata": {},
   "source": [
    "##### Посмотрим на метрики, для этого передаем тестовый датафрейм и колонку с предсказаниями, в нашем случае это `toppopular_recs`  "
   ]
  },
  {
   "cell_type": "code",
   "execution_count": 13,
   "id": "8fe15d27",
   "metadata": {},
   "outputs": [
    {
     "data": {
      "text/plain": [
       "{'ndcg': 0.1213225408775555, 'recall': 0.05789212284812527}"
      ]
     },
     "execution_count": 13,
     "metadata": {},
     "output_type": "execute_result"
    }
   ],
   "source": [
    "evaluate_recommender(df=test_part, model_preds_col=\"toppopular_recs\")\n"
   ]
  },
  {
   "cell_type": "markdown",
   "id": "16812cd3",
   "metadata": {},
   "source": [
    "#### Не пугайтесь таких маленьких значений, в RecSys задачах часто очень тяжело подстроиться под данные, поэтому абсолютные значения невелики. Чтобы по-настоящему оценить качество вашей модели, нужно сравнить ее с каким-то простым решением, которое можно считать отправной точкой. Наш бейзлайн с популярными фильмами как раз подходит!"
   ]
  },
  {
   "cell_type": "markdown",
   "id": "5e86cf0f",
   "metadata": {},
   "source": [
    "### Теперь возьмем подход посложнее, уже математически подкованный\n",
    "Мы можем представить просмотры пользователей, как матрицу, где по столбцам будут отложены айтемы, а по строкам – пользователи. В `[i,j]` ячейке будет стоять 1, если пользователь смотрел фильм/сериал и 0, если нет.  \n",
    "Тогда нашей задачей будет разложить исходную матрицу на две: матрицу пользователей и матрицу айтемов, перемножив которые, мы бы максимально приблизили известные нам единички. \n",
    "Такой подход позволит нам заполнить все пропуски в нашей матрице, то есть все нули. \n",
    "\n",
    "Для этого метода будем использовать модель **Alternating Least Squares (ALS)**. Она оптимизирует наши матрицы таким образом, чтобы мы хорошо восстанавливали все единички. \n",
    "Подробнее про модель можно почитать в [документации](https://benfred.github.io/implicit/), или, например, [тут](https://medium.com/radon-dev/als-implicit-collaborative-filtering-5ed653ba39fe), или как всегда – в интернете.\n"
   ]
  },
  {
   "cell_type": "markdown",
   "id": "2b03c8a5-53ae-4d69-bb22-7f6fe17715eb",
   "metadata": {},
   "source": [
    "# Baseline #2 – Матричное разложение"
   ]
  },
  {
   "cell_type": "code",
   "execution_count": 14,
   "id": "a3e5a3af-287d-441b-84c9-2ab5c5efc7cf",
   "metadata": {},
   "outputs": [],
   "source": [
    "class ALS(BaseRecommender):\n",
    "    # здесь вынесены только основные гиперпараметры модели, все вы можете посмотреть в документации\n",
    "    def __init__(\n",
    "        self, factors: int = 100, regularization: float = 0.01, alpha: float = 1.0, iterations: int = 5, **kwargs\n",
    "    ) -> None:\n",
    "        super().__init__()\n",
    "        self.model = AlternatingLeastSquares(\n",
    "            factors=factors, regularization=regularization, alpha=alpha, iterations=iterations, **kwargs\n",
    "        )\n",
    "        self.trained = False\n",
    "\n",
    "    def fit(\n",
    "        self, df: pd.DataFrame, item_col: str = \"movie_id\", user_col: str = \"user_id\", value_col: str = None\n",
    "    ) -> None:\n",
    "        self.user_encoder = LabelEncoder()\n",
    "        self.item_encoder = LabelEncoder()\n",
    "        user_ids = self.user_encoder.fit_transform(df[user_col])\n",
    "        item_ids = self.item_encoder.fit_transform(df[item_col])\n",
    "        if value_col is None:\n",
    "            counts = np.ones(len(df))\n",
    "        else:\n",
    "            counts = df[value_col].values\n",
    "\n",
    "        matrix_shape = len(self.user_encoder.classes_), len(self.item_encoder.classes_)\n",
    "        self.sparse = csr_matrix((counts, (user_ids, item_ids)), shape=matrix_shape)\n",
    "        self.model.fit(self.sparse)\n",
    "\n",
    "        self.trained = True\n",
    "\n",
    "    def predict(self, df: pd.DataFrame, topn: int = 10) -> List[np.ndarray]:\n",
    "        assert self.trained\n",
    "\n",
    "        all_recs = []\n",
    "\n",
    "        users = self.user_encoder.transform(df[\"user_id\"])\n",
    "        for user in tqdm(users, desc=\"predicting\", leave=False):\n",
    "            encoded_rec_items = self.model.recommend(user, user_items=self.sparse[user], N=topn)[0]\n",
    "            all_recs.append(self.item_encoder.inverse_transform(encoded_rec_items))\n",
    "\n",
    "        return all_recs"
   ]
  },
  {
   "cell_type": "code",
   "execution_count": 15,
   "id": "4e10d6a9-87d3-4a34-874d-d2b82ec74592",
   "metadata": {},
   "outputs": [
    {
     "name": "stderr",
     "output_type": "stream",
     "text": [
      "C:\\Users\\LENOVO\\anaconda3\\lib\\site-packages\\implicit\\cpu\\als.py:95: RuntimeWarning: Intel MKL BLAS is configured to use 6 threads. It is highly recommended to disable its internal threadpool by setting the environment variable 'MKL_NUM_THREADS=1' or by callng 'threadpoolctl.threadpool_limits(1, \"blas\")'. Having MKL use a threadpool can lead to severe performance issues\n",
      "  check_blas_config()\n"
     ]
    },
    {
     "data": {
      "application/vnd.jupyter.widget-view+json": {
       "model_id": "1bef251f7e1a46eab60a9c80437a6dcd",
       "version_major": 2,
       "version_minor": 0
      },
      "text/plain": [
       "  0%|          | 0/1 [00:00<?, ?it/s]"
      ]
     },
     "metadata": {},
     "output_type": "display_data"
    },
    {
     "data": {
      "application/vnd.jupyter.widget-view+json": {
       "model_id": "",
       "version_major": 2,
       "version_minor": 0
      },
      "text/plain": [
       "predicting:   0%|          | 0/66900 [00:00<?, ?it/s]"
      ]
     },
     "metadata": {},
     "output_type": "display_data"
    }
   ],
   "source": [
    "als_rec = ALS(iterations=1, factors=2, random_state=42)\n",
    "als_rec.fit(train_part)\n",
    "test_part[\"als_recs\"] = als_rec.predict(test_part)"
   ]
  },
  {
   "cell_type": "markdown",
   "id": "9ec39e30",
   "metadata": {},
   "source": [
    "#### Снова считаем метрики "
   ]
  },
  {
   "cell_type": "code",
   "execution_count": 16,
   "id": "2d34c7bb-f449-46ea-843f-3ad6fc887520",
   "metadata": {},
   "outputs": [
    {
     "data": {
      "text/plain": [
       "{'ndcg': 0.07245933697872713, 'recall': 0.03303122208040887}"
      ]
     },
     "execution_count": 16,
     "metadata": {},
     "output_type": "execute_result"
    }
   ],
   "source": [
    "evaluate_recommender(test_part, model_preds_col=\"als_recs\")\n"
   ]
  },
  {
   "cell_type": "markdown",
   "id": "37b8a747",
   "metadata": {},
   "source": [
    "### Ой-ой, кажется, что качество стало хуже, чем у популярных фильмов. Возможно мы плохо обучили модель, не самым правильным образом обработали данные, или она просто не подходит для этих данных, в любом случае, вам предстоит узнать можно ли обогнать `toppop` на данном датасете."
   ]
  },
  {
   "cell_type": "markdown",
   "id": "4c34f0ff",
   "metadata": {},
   "source": [
    "## Сделаем небольшой EDA наших предсказаний от ALS."
   ]
  },
  {
   "cell_type": "markdown",
   "id": "11b70ede-e103-493c-8e69-bf6304881241",
   "metadata": {},
   "source": [
    "### Посмотрим, что наш алгоритм чаще всего рекомендует первым делом:"
   ]
  },
  {
   "cell_type": "code",
   "execution_count": 17,
   "id": "609502a7-b96f-4233-a209-e7ebedb53876",
   "metadata": {},
   "outputs": [
    {
     "data": {
      "image/png": "[encoded data removed]",
      "text/plain": [
       "<Figure size 432x288 with 1 Axes>"
      ]
     },
     "metadata": {
      "needs_background": "light"
     },
     "output_type": "display_data"
    }
   ],
   "source": [
    "first_items = pd.DataFrame([x[0] for x in test_part[\"als_recs\"].values], columns=[\"id\"])\n",
    "first_items = (\n",
    "    first_items.merge(items_df[[\"id\", \"title\"]], on=\"id\").groupby(\"title\").size().sort_values(ascending=False)\n",
    ")\n",
    "first_items /= first_items.sum()\n",
    "first_items.head(10).plot(kind=\"bar\")\n",
    "plt.ylabel(\"Доля от всех рекомендаций\")\n",
    "plt.title(\"Распредление фильмов на первых местах\")\n",
    "plt.show()\n"
   ]
  },
  {
   "cell_type": "markdown",
   "id": "2301aa1d-d521-4aa7-b0b8-e4c05c1b8bfb",
   "metadata": {},
   "source": [
    "#### Посмотрим на похожие фильмы к фильму \"Аватар: Путь воды\", согласно als"
   ]
  },
  {
   "cell_type": "code",
   "execution_count": 18,
   "id": "a7d3e5ec-53ec-4271-98fd-cff5637e7085",
   "metadata": {},
   "outputs": [
    {
     "data": {
      "text/html": [
       "<div>\n",
       "<style scoped>\n",
       "    .dataframe tbody tr th:only-of-type {\n",
       "        vertical-align: middle;\n",
       "    }\n",
       "\n",
       "    .dataframe tbody tr th {\n",
       "        vertical-align: top;\n",
       "    }\n",
       "\n",
       "    .dataframe thead th {\n",
       "        text-align: right;\n",
       "    }\n",
       "</style>\n",
       "<table border=\"1\" class=\"dataframe\">\n",
       "  <thead>\n",
       "    <tr style=\"text-align: right;\">\n",
       "      <th></th>\n",
       "      <th>id</th>\n",
       "      <th>title</th>\n",
       "      <th>year</th>\n",
       "      <th>date_publication</th>\n",
       "      <th>description</th>\n",
       "      <th>genres</th>\n",
       "      <th>countries</th>\n",
       "      <th>staff</th>\n",
       "      <th>title_orig</th>\n",
       "      <th>age_rating</th>\n",
       "      <th>keywords</th>\n",
       "    </tr>\n",
       "  </thead>\n",
       "  <tbody>\n",
       "    <tr>\n",
       "      <th>484</th>\n",
       "      <td>484</td>\n",
       "      <td>Аватар: Путь воды</td>\n",
       "      <td>2023-01-01</td>\n",
       "      <td>2023-04-19T00:00:00</td>\n",
       "      <td>Джейк Салли живёт в образе аватара уже много л...</td>\n",
       "      <td>[158, 294, 266, 302]</td>\n",
       "      <td>[102]</td>\n",
       "      <td>[15325, 23343, 18928, 23330, 5187, 30892, 1481...</td>\n",
       "      <td>NaN</td>\n",
       "      <td>NaN</td>\n",
       "      <td>NaN</td>\n",
       "    </tr>\n",
       "  </tbody>\n",
       "</table>\n",
       "</div>"
      ],
      "text/plain": [
       "      id              title        year     date_publication  \\\n",
       "484  484  Аватар: Путь воды  2023-01-01  2023-04-19T00:00:00   \n",
       "\n",
       "                                           description                genres  \\\n",
       "484  Джейк Салли живёт в образе аватара уже много л...  [158, 294, 266, 302]   \n",
       "\n",
       "    countries                                              staff title_orig  \\\n",
       "484     [102]  [15325, 23343, 18928, 23330, 5187, 30892, 1481...        NaN   \n",
       "\n",
       "     age_rating keywords  \n",
       "484         NaN      NaN  "
      ]
     },
     "execution_count": 18,
     "metadata": {},
     "output_type": "execute_result"
    }
   ],
   "source": [
    "items_df[items_df[\"title\"] == 'Аватар: Путь воды']\n"
   ]
  },
  {
   "cell_type": "code",
   "execution_count": 19,
   "id": "2b1e6a5c-bbc2-4871-9a6c-71c2e63facef",
   "metadata": {},
   "outputs": [],
   "source": [
    "def get_similar_films(title, N=10):\n",
    "    item_id = items_df[items_df[\"title\"] == title]['id'].values[0]\n",
    "\n",
    "    similar_encoded_ids = als_rec.model.similar_items(\n",
    "        als_rec.item_encoder.transform([item_id]), N=N, filter_items=als_rec.item_encoder.transform([item_id])\n",
    "    )[0][0]\n",
    "    similar_ids = als_rec.item_encoder.inverse_transform(similar_encoded_ids)\n",
    "    return items_df[items_df[\"id\"].isin(similar_ids)][\"title\"]\n"
   ]
  },
  {
   "cell_type": "code",
   "execution_count": 20,
   "id": "b6f063d4-89d8-46e1-80c1-59ec2543ecd0",
   "metadata": {},
   "outputs": [
    {
     "data": {
      "text/plain": [
       "1667                                31 июня\n",
       "2848                   Великий уравнитель 2\n",
       "3078                      Безымянная звезда\n",
       "3088    Скандинавский форсаж: Гонки на льду\n",
       "4003                        Сердце из стали\n",
       "4584                            Проповедник\n",
       "5141    Сестрица Алёнушка и братец Иванушка\n",
       "6837                           Синяя бездна\n",
       "7043                         Обратная связь\n",
       "7343      Приключения на шоколадной фабрике\n",
       "Name: title, dtype: object"
      ]
     },
     "execution_count": 20,
     "metadata": {},
     "output_type": "execute_result"
    }
   ],
   "source": [
    "get_similar_films(\"Аватар: Путь воды\")"
   ]
  },
  {
   "cell_type": "markdown",
   "id": "47ae3b25-413b-4212-b6d9-a170986a8335",
   "metadata": {},
   "source": [
    "#### Получается, что \"Аватар: Путь воды\" и \"31 июня\" довольно близки.... возможно, возможно"
   ]
  },
  {
   "cell_type": "code",
   "execution_count": null,
   "id": "2016fc15-344b-44b5-85e0-2d8c3ad9e5c2",
   "metadata": {},
   "outputs": [],
   "source": []
  },
  {
   "cell_type": "code",
   "execution_count": null,
   "id": "96f26bed-0e33-4bb6-84af-b52986bd7ec2",
   "metadata": {},
   "outputs": [],
   "source": []
  },
  {
   "cell_type": "markdown",
   "id": "e764468f-5813-4c11-b074-f33f53682b24",
   "metadata": {},
   "source": [
    "# Так что же нужно сделать?\n",
    "\n",
    "### tl;dr – красивые визуализации, креативные подходы, различные модели\n",
    "\n",
    "**Мы не ставим перед вами задачу выбить лучший скор на тестовой выборке** (хотя это очень желательно), задание скорее в том, чтобы исследовать различные подходы, поискать инсайты в данных, построить красивый анализ своих предсказаний и поиграться с данными.\n",
    "\n",
    "Если говорить более формально, то мы будем оценивать следующее:\n",
    "1. Какие методы вы попробовали для решения задачи\n",
    "   ##### Это могут быть\n",
    "   * статистически подходы, основанные на вашем анализе данных\n",
    "   * классические метрические методы, вроде knn, а как посчитать вектора пользователей – пусть уже ваша фантазия вам диктует. Здесь вам помогут item-based модели, вроде EASE или SLIM\n",
    "   * затюненный или модифицированный ALS (ну или любая другая модель матричной факторизации)\n",
    "   * классические модели вроде градиентных бустингов (catboost, lightGBM) тоже работают в таких задачах (вам ведь ничего не мешает учить классификатор на просмотренный и непросмотренный фильмы, правда? осталось только насэмплить вторых)\n",
    "   * очень приветствуются (но не обязательны) DL подходы, например [DSSM](https://kishorepv.github.io/DSSM/), [NCF](https://towardsdatascience.com/neural-collaborative-filtering-96cef1009401), [Bert4Rec](https://towardsdatascience.com/build-your-own-movie-recommender-system-using-bert4rec-92e4e34938c5) или [любой другой алгоритм](https://habr.com/ru/companies/prequel/articles/573880/), который вы найдете, например графовые или дифузионные подходы, почему нет)\n",
    "     \n",
    "   В общем нет никаких ограничений на модели, используйте то, что вам нравится или кажется логичным. Не стоит бросаться в крайности: обучать целый зоопарк моделей или затюнить одну до 0 ошибки. Найдите баланс между количеством и качеством)\n",
    "2. Как хорошо вы валидировали свои модели\n",
    "3. EDA (Exploration Data Analysis) данных, с которыми вы работаете\n",
    "4. EDA полученных рекомендаций, насколько они разнообразные, насколько смещены в сторону популярных айтемов и всякое такое\n",
    "5. **Обязательно** сохраните свою лучшую модель (файлик обученной модели), чтобы мы могли воспроизвести ваш результат!\n",
    "\n",
    "\n",
    "## Помните:\n",
    "1. Все дополнительные источники данных **обязательно** должны быть описаны\n",
    "2. Нет правильного способа решить задачу. Не стоит беспокоиться, что вы делаете что-то неправильно. Мы хотим увидеть творческий подход и ваши способности к исследованию и прототипированию, а не какое-то конкретное решение задачи.\n",
    "3. Вы можете использовать любые библиотеки и фреймворки, которые вам могут быть необходимы.\n",
    "4. Сфокусируйтесь на том, чтобы код были чистый и понятный. Если вы считаете, что какая-то его часть может быть непонятна, то добавьте комментарии. Мы очень сильно ценим хорошо написанный код и выводы, поэтому если решение задачи будет оформлено грязно, то мы можем отклонить заявку.\n",
    "\n",
    "## Результат\n",
    "Мы ожидаем увидеть один или два (EDA + обучение моделей) ноутбук(а) на вашем [GitHub](https://github.com/) или ссылками на ваш [Google Colab](https://colab.research.google.com/?hl=ru).\n"
   ]
  }
 ],
 "metadata": {
  "kernelspec": {
   "display_name": "Python 3 (ipykernel)",
   "language": "python",
   "name": "python3"
  },
  "language_info": {
   "codemirror_mode": {
    "name": "ipython",
    "version": 3
   },
   "file_extension": ".py",
   "mimetype": "text/x-python",
   "name": "python",
   "nbconvert_exporter": "python",
   "pygments_lexer": "ipython3",
   "version": "3.9.12"
  }
 },
 "nbformat": 4,
 "nbformat_minor": 5
}
